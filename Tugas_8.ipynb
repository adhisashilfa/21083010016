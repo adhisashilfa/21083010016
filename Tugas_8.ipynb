{
  "nbformat": 4,
  "nbformat_minor": 0,
  "metadata": {
    "colab": {
      "private_outputs": true,
      "provenance": []
    },
    "kernelspec": {
      "name": "python3",
      "display_name": "Python 3"
    },
    "language_info": {
      "name": "python"
    }
  },
  "cells": [
    {
      "cell_type": "code",
      "source": [
        "from os import getpid\n",
        "from time import time, sleep\n",
        "from multiprocessing import cpu_count, Pool, Process\n",
        "\n",
        "x = int(input())\n",
        "\n",
        "def cetak(i):\n",
        "  if i%2:\n",
        "    print(i+1,\"Genap\", \"- punya ID proses\", getpid())\n",
        "    sleep(1)\n",
        "  else:\n",
        "    print(i+1,\"Ganjil\", \"- punya ID proses\", getpid())\n",
        "    sleep(1)\n",
        "\n",
        "print('\\nSekuensial')\n",
        "# UNTUK MENDAPATKAN WAKTU SEBELUM EKSEKUSI\n",
        "sekuensial_awal = time()\n",
        "\n",
        "# PROSES BERLANGSUNG\n",
        "for i in range(x):\n",
        "  cetak(i)\n",
        "\n",
        "# UNTUK MENDAPATKAN WAKTU SETELAH EKSEKUSI\n",
        "sekuensial_akhir = time()\n",
        "\n",
        "print('\\nmultiprocessing.Process')\n",
        "# UNTUK MENAMPUNG PROSES-PROSES\n",
        "kumpulan_proses = []\n",
        "\n",
        "# UNTUK MENDAPATKAN WAKTU SEBELUM EKSEKUSI\n",
        "process_awal = time()\n",
        "\n",
        "# PROSES BERLANGSUNG\n",
        "for i in range(x):\n",
        "    p = Process(target=cetak, args=(i, ))\n",
        "    kumpulan_proses.append(p)\n",
        "    p.start()\n",
        "\n",
        "# UNTUK MENGGABUNGKAN PROSES-PROSES AGAR TIDAK LONCAT KE PROSES SEBELUM'NYA\n",
        "for i in kumpulan_proses:\n",
        "    p.join()\n",
        "    \n",
        "# UNTUK MENDAPATKAN WAKTU SETELAH EKSEKUSI\n",
        "process_akhir = time()\n",
        "\n",
        "print('\\nmultiprocessing.pool')\n",
        "# UNTUK MENDAPATKAN WAKTU SEBELUM EKSEKUSI\n",
        "pool_awal = time()\n",
        "\n",
        "# PROSES BERLANGSUNG\n",
        "pool = Pool()\n",
        "pool.map(cetak, range(0, x))\n",
        "pool.close()\n",
        "\n",
        "# UNTUK MENDAPATKAN WAKTU SEBELUM EKSEKUSI\n",
        "pool_akhir = time()\n",
        "\n",
        "#Membandingkan Waktu Eksekusi\n",
        "print(\"\\nSekuensial :\", sekuensial_akhir - sekuensial_awal, \"detik\")\n",
        "print(\"multiprocessing.Process :\", process_akhir - process_awal, \"detik\")\n",
        "print(\"multiprocessing.pool :\", pool_akhir - pool_awal, \"detik\")"
      ],
      "metadata": {
        "id": "msjCUhVdy2Yu"
      },
      "execution_count": null,
      "outputs": []
    },
    {
      "cell_type": "code",
      "source": [],
      "metadata": {
        "id": "qcnsgSHYzNrW"
      },
      "execution_count": null,
      "outputs": []
    }
  ]
}